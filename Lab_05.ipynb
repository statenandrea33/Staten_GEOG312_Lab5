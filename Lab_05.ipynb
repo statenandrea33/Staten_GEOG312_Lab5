{
  "cells": [
    {
      "cell_type": "markdown",
      "metadata": {
        "id": "view-in-github",
        "colab_type": "text"
      },
      "source": [
        "<a href=\"https://colab.research.google.com/github/statenandrea33/Staten_GEOG312_Lab5/blob/main/Lab_05.ipynb\" target=\"_parent\"><img src=\"https://colab.research.google.com/assets/colab-badge.svg\" alt=\"Open In Colab\"/></a>"
      ]
    },
    {
      "cell_type": "markdown",
      "metadata": {
        "id": "gPIeb_ga8qDi"
      },
      "source": [
        "[![image](https://colab.research.google.com/assets/colab-badge.svg)](https://colab.research.google.com/github/giswqs/geog-312/blob/master/labs/lab_05.ipynb)\n",
        "[![image](https://binder.pangeo.io/badge_logo.svg)](https://gishub.org/geog312-pangeo)\n",
        "\n",
        "**Andrea Staten**"
      ]
    },
    {
      "cell_type": "code",
      "execution_count": 1,
      "metadata": {
        "id": "DAs9s8l78qDk",
        "colab": {
          "base_uri": "https://localhost:8080/"
        },
        "outputId": "579c81b3-3550-4781-fa29-98cdbe065e71"
      },
      "outputs": [
        {
          "output_type": "stream",
          "name": "stdout",
          "text": [
            "Submitted time: 2023-10-05 19:44:07.261450\n"
          ]
        }
      ],
      "source": [
        "from datetime import datetime\n",
        "\n",
        "now = datetime.now()\n",
        "print(f\"Submitted time: {now}\")"
      ]
    },
    {
      "cell_type": "markdown",
      "metadata": {
        "id": "80wDAutS8qDl"
      },
      "source": [
        "## Question 1\n",
        "**Person:** Use a dictionary to store information about a person you know. Store their first name, last name, age, and the city in which they live. You should have keys such as first_name, last_name, age, and city. Print each piece of information stored in your dictionary."
      ]
    },
    {
      "cell_type": "code",
      "execution_count": 2,
      "metadata": {
        "id": "VX9hzDGq8qDl",
        "colab": {
          "base_uri": "https://localhost:8080/"
        },
        "outputId": "a9457047-d32b-4d56-ed98-010e9d75869d"
      },
      "outputs": [
        {
          "output_type": "stream",
          "name": "stdout",
          "text": [
            "Maxwell\n",
            "Marcum\n",
            "21\n",
            "Knoxville\n"
          ]
        }
      ],
      "source": [
        "person_0 = {'first name': 'Maxwell', 'last name': 'Marcum', 'age':'21', 'city': 'Knoxville'}\n",
        "\n",
        "print(person_0['first name'])\n",
        "print(person_0['last name'])\n",
        "print(person_0['age'])\n",
        "print(person_0['city'])"
      ]
    },
    {
      "cell_type": "markdown",
      "metadata": {
        "id": "BmrgJR_68qDl"
      },
      "source": [
        "## Question 2\n",
        "**Favorite Numbers:** Use a dictionary to store people’s favorite numbers. Think of five names, and use them as keys in your dictionary. Think of a favorite number for each person, and store each as a value in your dictionary. Print each person’s name and their favorite number. For even more fun, poll a few friends and get some actual data for your program."
      ]
    },
    {
      "cell_type": "code",
      "execution_count": 3,
      "metadata": {
        "id": "nTGCTesf8qDm",
        "colab": {
          "base_uri": "https://localhost:8080/"
        },
        "outputId": "b8aac9e8-9057-462d-d1b3-e674d8874344"
      },
      "outputs": [
        {
          "output_type": "stream",
          "name": "stdout",
          "text": [
            "Max's favorite number is 77.\n",
            "Jillian's favorite number is 9.\n",
            "Andrea's favorite number is 3.\n",
            "Abby's favorite number is 7.\n",
            "Josee's favorite number is 12.\n"
          ]
        }
      ],
      "source": [
        "favorite_numbers = {\n",
        "    'max': '77',\n",
        "    'jillian': '9',\n",
        "    'andrea': '3',\n",
        "    'abby': '7',\n",
        "    'josee': '12',\n",
        "}\n",
        "\n",
        "num_0 = favorite_numbers['max'].title()\n",
        "print(f\"Max's favorite number is {num_0}.\")\n",
        "num_1 = favorite_numbers['jillian'].title()\n",
        "print(f\"Jillian's favorite number is {num_1}.\")\n",
        "num_2 = favorite_numbers['andrea'].title()\n",
        "print(f\"Andrea's favorite number is {num_2}.\")\n",
        "num_3 = favorite_numbers['abby'].title()\n",
        "print(f\"Abby's favorite number is {num_3}.\")\n",
        "num_4 = favorite_numbers['josee'].title()\n",
        "print(f\"Josee's favorite number is {num_4}.\")"
      ]
    },
    {
      "cell_type": "markdown",
      "metadata": {
        "id": "HfoKWDKj8qDm"
      },
      "source": [
        "## Question 3\n",
        "**Glossary:** A Python dictionary can be used to model an actual dictionary. However, to avoid confusion, let’s call it a glossary.\n",
        "\n",
        "* Think of five programming words you’ve learned about in the previous chapters. Use these words as the keys in your glossary, and store their meanings as values.\n",
        "* Print each word and its meaning as neatly formatted output. You might print the word followed by a colon and then its meaning, or print the word on one line and then print its meaning indented on a second line. Use the newline character (\\n) to insert a blank line between each word-meaning pair in your output."
      ]
    },
    {
      "cell_type": "code",
      "execution_count": 4,
      "metadata": {
        "id": "CIFmMcnr8qDm",
        "colab": {
          "base_uri": "https://localhost:8080/"
        },
        "outputId": "1a03c736-c284-4150-a893-2c533ed3d977"
      },
      "outputs": [
        {
          "output_type": "stream",
          "name": "stdout",
          "text": [
            "\n",
            "List: A collection of items in a particular order.\n",
            "\n",
            "Loop: A loop works through a collection of items individually.\n",
            "\n",
            "String: A series of characters.\n",
            "\n",
            "Dictionary: A collection of key-value pairs. \n",
            "\n",
            "Key: A key is the first item in a key-value pair, within a dictionary.\n"
          ]
        }
      ],
      "source": [
        "glossary = {\n",
        "    'list': 'A collection of items in a particular order.',\n",
        "    'loop': 'A loop works through a collection of items individually.',\n",
        "    'string': 'A series of characters.',\n",
        "    'dictionary': 'A collection of key-value pairs. ',\n",
        "    'key': 'A key is the first item in a key-value pair, within a dictionary.',\n",
        "}\n",
        "\n",
        "word = 'list'\n",
        "print(f\"\\n{word.title()}: {glossary[word]}\")\n",
        "\n",
        "word = 'loop'\n",
        "print(f\"\\n{word.title()}: {glossary[word]}\")\n",
        "\n",
        "word = 'string'\n",
        "print(f\"\\n{word.title()}: {glossary[word]}\")\n",
        "\n",
        "word = 'dictionary'\n",
        "print(f\"\\n{word.title()}: {glossary[word]}\")\n",
        "\n",
        "word = 'key'\n",
        "print(f\"\\n{word.title()}: {glossary[word]}\")"
      ]
    },
    {
      "cell_type": "markdown",
      "metadata": {
        "id": "4rZ6TqZN8qDm"
      },
      "source": [
        "## Question 4\n",
        "**Glossary 2:** Now that you know how to loop through a dictionary, clean up the code from Question 3 by replacing your series of print() calls with a loop that runs through the dictionary’s keys and values. When you’re sure that your loop works, add five more Python terms to your glossary. When you run your program again, these new words and meanings should automatically be included in the output."
      ]
    },
    {
      "cell_type": "code",
      "execution_count": 5,
      "metadata": {
        "id": "PoX2uuV28qDn",
        "colab": {
          "base_uri": "https://localhost:8080/"
        },
        "outputId": "0fa78963-18a4-4a7f-ec5a-9fbb5bd3f53f"
      },
      "outputs": [
        {
          "output_type": "stream",
          "name": "stdout",
          "text": [
            "\n",
            "List: A collection of items in a particular order.\n",
            "\n",
            "Loop: A loop works through a collection of items individually.\n",
            "\n",
            "String: A series of characters.\n",
            "\n",
            "Dictionary: A collection of key-value pairs. \n",
            "\n",
            "Key: A key is the first item in a key-value pair, within a dictionary.\n",
            "\n",
            "Value: An item that is associated with a key in a key-value pair, within a dictionary.\n",
            "\n",
            "Variable: A variable is something connected to a value, which stores information.\n",
            "\n",
            "Floats: A number with a decimal point (ex. 9.4 + 0.6).\n",
            "\n",
            "Comments: Comments are indicated by a (#), these allow a explanation to the code.\n",
            "\n",
            "Tuple: A tuple is essentially a list with parentheses instead of square brackets.\n"
          ]
        }
      ],
      "source": [
        "glossary = {\n",
        "    'list': 'A collection of items in a particular order.',\n",
        "    'loop': 'A loop works through a collection of items individually.',\n",
        "    'string': 'A series of characters.',\n",
        "    'dictionary': 'A collection of key-value pairs. ',\n",
        "    'key': 'A key is the first item in a key-value pair, within a dictionary.',\n",
        "    'value': 'An item that is associated with a key in a key-value pair, within a dictionary.',\n",
        "    'variable': 'A variable is something connected to a value, which stores information.',\n",
        "    'floats': 'A number with a decimal point (ex. 9.4 + 0.6).',\n",
        "    'comments': 'Comments are indicated by a (#), these allow a explanation to the code.',\n",
        "    'tuple': 'A tuple is essentially a list with parentheses instead of square brackets.',\n",
        "}\n",
        "\n",
        "for word, definition in glossary.items():\n",
        "    print(f\"\\n{word.title()}: {definition}\")"
      ]
    },
    {
      "cell_type": "markdown",
      "metadata": {
        "id": "JWsAT7ZI8qDn"
      },
      "source": [
        "## Question 5\n",
        "**Rivers:** Make a dictionary containing three major rivers and the country each river runs through. One key-value pair might be 'nile': 'egypt'.\n",
        "\n",
        "* Use a loop to print a sentence about each river, such as *The Nile runs through Egypt.*\n",
        "* Use a loop to print the name of each river included in the dictionary.\n",
        "* Use a loop to print the name of each country included in the dictionary."
      ]
    },
    {
      "cell_type": "code",
      "execution_count": 6,
      "metadata": {
        "id": "3v4iKwvS8qDn",
        "colab": {
          "base_uri": "https://localhost:8080/"
        },
        "outputId": "fad7e776-5b00-4467-9bd0-c9e747007f04"
      },
      "outputs": [
        {
          "output_type": "stream",
          "name": "stdout",
          "text": [
            "\n",
            "The Nile flows through Egypt.\n",
            "\n",
            "The Mississippi flows through Usa.\n",
            "\n",
            "The Amazon flows through Brazil.\n",
            "Nile\n",
            "Mississippi\n",
            "Amazon\n",
            "Brazil\n",
            "Usa\n",
            "Egypt\n"
          ]
        }
      ],
      "source": [
        "rivers = {\n",
        "    'nile':'egypt',\n",
        "    'mississippi':'usa',\n",
        "    'amazon':'brazil',\n",
        "}\n",
        "\n",
        "for river,country in rivers.items():\n",
        "        print(f\"\\nThe {river.title()} flows through {country.title()}.\")\n",
        "\n",
        "for river in rivers:\n",
        "        print(river.title())\n",
        "\n",
        "for country in set(rivers.values()):\n",
        "        print(country.title())"
      ]
    },
    {
      "cell_type": "markdown",
      "metadata": {
        "id": "m2GsOh6f8qDn"
      },
      "source": [
        "## Question 6\n",
        "**Polling:** Based on the dictionary below (i.e., favorite_languages):\n",
        "\n",
        "* Make a list of people who should take the favorite languages poll. Include some names that are already in the dictionary and some that are not.\n",
        "* Loop through the list of people who should take the poll. If they have already taken the poll, print a message thanking them for responding. If they have not yet taken the poll, print a message inviting them to take the poll."
      ]
    },
    {
      "cell_type": "code",
      "execution_count": 7,
      "metadata": {
        "id": "wadU8sjr8qDn",
        "colab": {
          "base_uri": "https://localhost:8080/"
        },
        "outputId": "38eea349-b21e-4c8f-a973-dabbcb3550c6"
      },
      "outputs": [
        {
          "output_type": "stream",
          "name": "stdout",
          "text": [
            "Jen's favorite language is Python.\n",
            "Sarah's favorite language is C.\n",
            "Edward's favorite language is Ruby.\n",
            "Phil's favorite language is Python.\n",
            "\n",
            "\n",
            "Thank you for taking the poll, Phil!\n",
            "Josh, what's your favorite programming language?\n",
            "David, what's your favorite programming language?\n",
            "Becca, what's your favorite programming language?\n",
            "Thank you for taking the poll, Sarah!\n",
            "Matt, what's your favorite programming language?\n",
            "Danielle, what's your favorite programming language?\n"
          ]
        }
      ],
      "source": [
        "favorite_languages = {\n",
        "    'jen': 'python',\n",
        "    'sarah': 'c',\n",
        "    'edward': 'ruby',\n",
        "    'phil': 'python',\n",
        "    }\n",
        "\n",
        "for name, language in favorite_languages.items():\n",
        "    print(f\"{name.title()}'s favorite language is {language.title()}.\")\n",
        "\n",
        "print(\"\\n\")\n",
        "\n",
        "coders = ['phil', 'josh', 'david', 'becca', 'sarah', 'matt', 'danielle']\n",
        "for coder in coders:\n",
        "    if coder in favorite_languages.keys():\n",
        "        print(f\"Thank you for taking the poll, {coder.title()}!\")\n",
        "    else:\n",
        "        print(f\"{coder.title()}, what's your favorite programming language?\")"
      ]
    },
    {
      "cell_type": "markdown",
      "metadata": {
        "id": "gQLwn_TN8qDo"
      },
      "source": []
    },
    {
      "cell_type": "markdown",
      "metadata": {
        "id": "BDMbnTuT8qDo"
      },
      "source": [
        "## Question 7\n",
        "**People:** Start with the program you wrote for Question 1. Make two new dictionaries representing different people, and store all three dictionaries in a list called `people`. Loop through your list of people. As you loop through the list, print everything you know about each person."
      ]
    },
    {
      "cell_type": "code",
      "execution_count": 8,
      "metadata": {
        "id": "KVLQ7qZj8qDo",
        "colab": {
          "base_uri": "https://localhost:8080/"
        },
        "outputId": "609a51bc-9b67-492e-a7fd-7b6fb7122476"
      },
      "outputs": [
        {
          "output_type": "stream",
          "name": "stdout",
          "text": [
            "{'first name': 'Maxwell', 'last name': 'Marcum', 'age': '21', 'city': 'Knoxville'}\n",
            "{'first name': 'Andrea', 'last name': 'Staten', 'age': '21', 'city': 'Knoxville'}\n",
            "{'first name': 'Jillian', 'last name': 'Degnan', 'age': '21', 'city': 'Knoxville'}\n"
          ]
        }
      ],
      "source": [
        "person_0 = {'first name': 'Maxwell', 'last name': 'Marcum', 'age':'21', 'city': 'Knoxville'}\n",
        "person_1 = {'first name': 'Andrea', 'last name': 'Staten', 'age': '21', 'city': 'Knoxville'}\n",
        "person_2 = {'first name': 'Jillian', 'last name': 'Degnan', 'age': '21', 'city': 'Knoxville'}\n",
        "\n",
        "people = [person_0, person_1, person_2]\n",
        "\n",
        "for person in people:\n",
        "  print(person)\n"
      ]
    },
    {
      "cell_type": "markdown",
      "metadata": {
        "id": "manPOlBw8qDo"
      },
      "source": [
        "## Question 8\n",
        "**Pets:** Make several dictionaries, where each dictionary represents a different pet. In each dictionary, include the kind of animal and the owner’s name. Store these dictionaries in a list called `pets`. Next, loop through your list and as you do, print everything you know about each pet."
      ]
    },
    {
      "cell_type": "code",
      "execution_count": 9,
      "metadata": {
        "id": "KYiAMxJF8qDo",
        "colab": {
          "base_uri": "https://localhost:8080/"
        },
        "outputId": "0c3cb970-60d5-4a48-fc9d-283a67579201"
      },
      "outputs": [
        {
          "output_type": "stream",
          "name": "stdout",
          "text": [
            "{'breed': 'German Sheperd', 'owner name': 'Maxwell'}\n",
            "{'breed': 'Goldendoodle', 'owner name': 'Andrea'}\n",
            "{'breed': 'Bluetick Coonhound', 'owner name': 'Jillian'}\n"
          ]
        }
      ],
      "source": [
        "pet_0 = {'breed': 'German Sheperd', 'owner name': 'Maxwell'}\n",
        "pet_1 = {'breed': 'Goldendoodle', 'owner name': 'Andrea'}\n",
        "pet_2 = {'breed': 'Bluetick Coonhound', 'owner name': 'Jillian'}\n",
        "\n",
        "pets = [pet_0, pet_1, pet_2]\n",
        "\n",
        "for pet in pets:\n",
        "  print(pet)"
      ]
    },
    {
      "cell_type": "markdown",
      "metadata": {
        "id": "ln3VefGw8qDo"
      },
      "source": [
        "## Question 9\n",
        "**Favorite Places:** Make a dictionary called `favorite_places`. Think of three names to use as keys in the dictionary, and store one to three favorite places for each person. To make this exercise a bit more interesting, ask some friends to name a few of their favorite places. Loop through the dictionary, and print each person’s name and their favorite places."
      ]
    },
    {
      "cell_type": "code",
      "execution_count": 10,
      "metadata": {
        "id": "jxNaJwfH8qDo",
        "colab": {
          "base_uri": "https://localhost:8080/"
        },
        "outputId": "f33cd197-e2c3-4863-e7bc-cef1e1c8ae7e"
      },
      "outputs": [
        {
          "output_type": "stream",
          "name": "stdout",
          "text": [
            "\n",
            "Maxwell's favorite places are:\n",
            "\tZion-Utah\n",
            "\tGrand Canyon-Arizona\n",
            "\tCincinatti,Oh\n",
            "\n",
            "Andrea's favorite places are:\n",
            "\tOuter Banks\n",
            "\tColorado\n",
            "\tUtah\n",
            "\n",
            "Jillian's favorite places are:\n",
            "\tPcb\n",
            "\tAsheville\n",
            "\tDestin\n"
          ]
        }
      ],
      "source": [
        "favorite_places = {\n",
        "    'maxwell': ['Zion-Utah', 'Grand Canyon-Arizona', 'Cincinatti,OH'],\n",
        "    'andrea': ['Outer Banks', 'Colorado', 'Utah'],\n",
        "    'jillian': ['PCB', 'Asheville', 'Destin'],\n",
        "}\n",
        "\n",
        "for name, places in favorite_places.items():\n",
        "  print(f\"\\n{name.title()}'s favorite places are:\")\n",
        "  for place in places:\n",
        "    print(f\"\\t{place.title()}\")"
      ]
    },
    {
      "cell_type": "markdown",
      "metadata": {
        "id": "i2LSvn_58qDo"
      },
      "source": [
        "## Question 10\n",
        "**Favorite Numbers:** Modify your program from Question 2 so each person can have more than one favorite number. Then print each person’s name along with their favorite numbers."
      ]
    },
    {
      "cell_type": "code",
      "execution_count": 11,
      "metadata": {
        "id": "AOeGhHFJ8qDp",
        "colab": {
          "base_uri": "https://localhost:8080/"
        },
        "outputId": "6c220e0b-7de9-4a7e-8208-23ad62086d97"
      },
      "outputs": [
        {
          "output_type": "stream",
          "name": "stdout",
          "text": [
            "\n",
            "Max's favorite numbers are:\n",
            "\t77\n",
            "\t24\n",
            "\n",
            "Jillian's favorite numbers are:\n",
            "\t9\n",
            "\t83\n",
            "\n",
            "Andrea's favorite numbers are:\n",
            "\t33\n",
            "\t65\n",
            "\n",
            "Abby's favorite numbers are:\n",
            "\t7\n",
            "\t12\n",
            "\n",
            "Josee's favorite numbers are:\n",
            "\t12\n",
            "\t34\n"
          ]
        }
      ],
      "source": [
        "favorite_numbers = {\n",
        "    'max': ['77', '24'],\n",
        "    'jillian': ['9', '83'],\n",
        "    'andrea': ['33', '65'],\n",
        "    'abby': ['7', '12'],\n",
        "    'josee': ['12', '34'],\n",
        "}\n",
        "\n",
        "for name, numbers in favorite_numbers.items():\n",
        "  print(f\"\\n{name.title()}'s favorite numbers are:\")\n",
        "  for number in numbers:\n",
        "    print(f\"\\t{number.title()}\")"
      ]
    },
    {
      "cell_type": "markdown",
      "metadata": {
        "id": "tDImFk668qDp"
      },
      "source": [
        "## Question 11\n",
        "**Cities:** Make a dictionary called `cities`. Use the names of three cities as keys in your dictionary. Create a dictionary of information about each city and include the country that the city is in, its approximate population, and one fact about that city. The keys for each city’s dictionary should be something like `country`, `population`, and `fact`. Print the name of each city and all of the information you have stored about it."
      ]
    },
    {
      "cell_type": "code",
      "execution_count": 12,
      "metadata": {
        "id": "HAL9YiBR8qDp",
        "colab": {
          "base_uri": "https://localhost:8080/"
        },
        "outputId": "6231354d-864d-4397-b672-d815daba1773"
      },
      "outputs": [
        {
          "output_type": "stream",
          "name": "stdout",
          "text": [
            "\n",
            "City: Knoxville\n",
            " knoxville is located in United States.\n",
            " It has a population of 192,648.\n",
            " The City of Knoxville was incorporated in 1815.\n",
            "\n",
            "City: Tokyo\n",
            " tokyo is located in Japan.\n",
            " It has a population of 13,960,000.\n",
            " Tokyo has been the japanese capital since 1868.\n",
            "\n",
            "City: Sydney\n",
            " sydney is located in Australia.\n",
            " It has a population of 5,312,000.\n",
            " Sydney is the countries largest city.\n"
          ]
        }
      ],
      "source": [
        "cities = {\n",
        "    'knoxville': {\n",
        "        'country':'united states',\n",
        "        'population':'192,648',\n",
        "        'fact':'The City of Knoxville was incorporated in 1815.',\n",
        "        },\n",
        "    'tokyo': {\n",
        "        'country':'japan',\n",
        "        'population':'13,960,000',\n",
        "        'fact':'Tokyo has been the japanese capital since 1868.',\n",
        "        },\n",
        "    'sydney': {\n",
        "        'country':'australia',\n",
        "        'population':'5,312,000',\n",
        "        'fact':'Sydney is the countries largest city.',\n",
        "        },\n",
        "\n",
        "}\n",
        "\n",
        "for city, city_info in cities.items():\n",
        "    country = city_info['country'].title()\n",
        "    population = city_info['population']\n",
        "    fact = city_info['fact']\n",
        "\n",
        "    print(f\"\\nCity: {city.title()}\")\n",
        "    print(f\" {city} is located in {country}.\")\n",
        "    print(f\" It has a population of {population}.\")\n",
        "    print(f\" {fact}\")"
      ]
    },
    {
      "cell_type": "markdown",
      "metadata": {
        "id": "cu_ZjsVg8qDp"
      },
      "source": [
        "## Question 12\n",
        "**Extensions:** We’re now working with examples that are complex enough that they can be extended in any number of ways. Use one of the example programs from this chapter, and extend it by adding new keys and values, changing the context of the program or improving the formatting of the output."
      ]
    },
    {
      "cell_type": "code",
      "execution_count": 13,
      "metadata": {
        "id": "dgJwRlTB8qDp",
        "colab": {
          "base_uri": "https://localhost:8080/"
        },
        "outputId": "2657465f-2aaf-4e7f-a643-6c42233d0aef"
      },
      "outputs": [
        {
          "output_type": "stream",
          "name": "stdout",
          "text": [
            "\n",
            "Person: Maxwell\n",
            "Maxwell is 21.\n",
            "Located in Knoxville.\n",
            "Enjoys rock climbing.\n",
            "\n",
            "Person: Andrea\n",
            "Andrea is 21.\n",
            "Located in Knoxville.\n",
            "Enjoys reading.\n",
            "\n",
            "Person: Jillian\n",
            "Jillian is 21.\n",
            "Located in Knoxville.\n",
            "Enjoys music.\n"
          ]
        }
      ],
      "source": [
        "people = {\n",
        "   'maxwell':{\n",
        "      'age':'21',\n",
        "      'city': 'Knoxville',\n",
        "      'hobby': 'rock climbing',\n",
        "      },\n",
        "   'andrea' :{\n",
        "      'age':'21',\n",
        "      'city': 'Knoxville',\n",
        "      'hobby': 'reading',\n",
        "      },\n",
        "   'jillian':{\n",
        "      'age': '21',\n",
        "      'city': 'Knoxville',\n",
        "      'hobby': 'music',\n",
        "      },\n",
        "}\n",
        "\n",
        "for person, person_info in people.items():\n",
        "  age = person_info['age']\n",
        "  city = person_info['city'].title()\n",
        "  hobby = person_info['hobby']\n",
        "\n",
        "  print(f\"\\nPerson: {person.title()}\")\n",
        "  print(f\"{person.title()} is {age}.\")\n",
        "  print(f\"Located in {city.title()}.\")\n",
        "  print(f\"Enjoys {hobby}.\")"
      ]
    },
    {
      "cell_type": "markdown",
      "metadata": {
        "id": "tpLC1NKs8qDp"
      },
      "source": [
        "## Question 13\n",
        "**Rental Car:** Write a program that asks the user what kind of rental car they would like. Print a message about that car, such as “Let me see if I can find you a Subaru.”"
      ]
    },
    {
      "cell_type": "code",
      "execution_count": 14,
      "metadata": {
        "id": "LjdJDLDQ8qDp",
        "colab": {
          "base_uri": "https://localhost:8080/"
        },
        "outputId": "64274ce5-2844-458b-adbf-86fcc95f506d"
      },
      "outputs": [
        {
          "output_type": "stream",
          "name": "stdout",
          "text": [
            "What kind of car would you like to rent?Subaru\n",
            "Let me see if I can find you a Subaru.\n"
          ]
        }
      ],
      "source": [
        "car_type = input('What kind of car would you like to rent?')\n",
        "print(f\"Let me see if I can find you a {car_type}.\")"
      ]
    },
    {
      "cell_type": "markdown",
      "metadata": {
        "id": "4-vGTm_98qDp"
      },
      "source": [
        "## Question 14\n",
        "**Restaurant Seating:** Write a program that asks the user how many people are in their dinner group. If the answer is more than eight, print a message saying they’ll have to wait for a table. Otherwise, report that their table is ready."
      ]
    },
    {
      "cell_type": "code",
      "execution_count": 15,
      "metadata": {
        "id": "cwxho01i8qDp",
        "colab": {
          "base_uri": "https://localhost:8080/"
        },
        "outputId": "eb2131ce-08b4-4f2a-e33a-4b7520390903"
      },
      "outputs": [
        {
          "output_type": "stream",
          "name": "stdout",
          "text": [
            "How many people are in your party?4\n",
            "Your table is ready!\n"
          ]
        }
      ],
      "source": [
        "group_size = input('How many people are in your party?')\n",
        "group_size = int(group_size)\n",
        "\n",
        "if group_size > 8:\n",
        "    print('You will have to wait for a table.')\n",
        "else:\n",
        "    print('Your table is ready!')"
      ]
    },
    {
      "cell_type": "markdown",
      "metadata": {
        "id": "ZHuoTYER8qDp"
      },
      "source": [
        "## Question 15\n",
        "**Multiples of Ten:** Ask the user for a number, and then report whether the number is a multiple of 10 or not."
      ]
    },
    {
      "cell_type": "code",
      "execution_count": 16,
      "metadata": {
        "id": "iOaI5dw18qDq",
        "colab": {
          "base_uri": "https://localhost:8080/"
        },
        "outputId": "a7e716ae-6af7-4922-fbe5-d8b421ec8cc6"
      },
      "outputs": [
        {
          "output_type": "stream",
          "name": "stdout",
          "text": [
            "Enter a number, and I will tell you if it is a multiple of 10 or not.4846516515616\n",
            "The number 4846516515616 is not a multiple of 10.\n"
          ]
        }
      ],
      "source": [
        "number = input('Enter a number, and I will tell you if it is a multiple of 10 or not.')\n",
        "number = int(number)\n",
        "\n",
        "if number % 10 == 0:\n",
        "    print(f\"The number {number} is a multiple of 10.\")\n",
        "else:\n",
        "    print(f\"The number {number} is not a multiple of 10.\")"
      ]
    },
    {
      "cell_type": "markdown",
      "metadata": {
        "id": "XegNmqki8qDq"
      },
      "source": [
        "## Question 16\n",
        "**Pizza Toppings:** Write a loop that prompts the user to enter a series of pizza toppings until they enter a 'quit' value. As they enter each topping, print a message saying you’ll add that topping to their pizza."
      ]
    },
    {
      "cell_type": "code",
      "execution_count": 17,
      "metadata": {
        "id": "99J6H2hu8qDq",
        "colab": {
          "base_uri": "https://localhost:8080/"
        },
        "outputId": "2f5fdbee-8f02-4830-907a-d95e796d9e3d"
      },
      "outputs": [
        {
          "name": "stdout",
          "output_type": "stream",
          "text": [
            "\n",
            "What toppings would you like on your pizza?\n",
            "Enter 'quit' when your pizza is complete: banana peppers\n",
            " Okay, banana peppers has been added to your pizza.\n",
            "\n",
            "What toppings would you like on your pizza?\n",
            "Enter 'quit' when your pizza is complete: cheese\n",
            " Okay, cheese has been added to your pizza.\n",
            "\n",
            "What toppings would you like on your pizza?\n",
            "Enter 'quit' when your pizza is complete: pineapple\n",
            " Okay, pineapple has been added to your pizza.\n",
            "\n",
            "What toppings would you like on your pizza?\n",
            "Enter 'quit' when your pizza is complete: quit\n"
          ]
        }
      ],
      "source": [
        "prompt = \"\\nWhat toppings would you like on your pizza?\"\n",
        "prompt += \"\\nEnter 'quit' when your pizza is complete: \"\n",
        "\n",
        "while True:\n",
        "    topping = input(prompt)\n",
        "    if topping != 'quit':\n",
        "        print (f\" Okay, {topping} has been added to your pizza.\")\n",
        "    else:\n",
        "        break"
      ]
    },
    {
      "cell_type": "markdown",
      "metadata": {
        "id": "ZHdHzGKO8qDq"
      },
      "source": [
        "## Question 17\n",
        "**Movie Tickets:** A movie theater charges different ticket prices depending on a person’s age. If a person is under the age of 3, the ticket is free; if they are between 3 and 12, the ticket is \\\\$10; and if they are over age 12, the ticket is $15. Write a loop in which you ask users their age, and then tell them the cost of their movie ticket."
      ]
    },
    {
      "cell_type": "code",
      "execution_count": 18,
      "metadata": {
        "id": "-qmAJrVB8qDq",
        "colab": {
          "base_uri": "https://localhost:8080/"
        },
        "outputId": "7e8b0679-d932-48bc-d097-ed6a42fbb714"
      },
      "outputs": [
        {
          "name": "stdout",
          "output_type": "stream",
          "text": [
            "How old are you?\n",
            "Enter 'quit' when you are finished.6\n",
            "Your ticket is $10.\n",
            "How old are you?\n",
            "Enter 'quit' when you are finished.17\n",
            "Your ticket is $15.\n",
            "How old are you?\n",
            "Enter 'quit' when you are finished.2\n",
            "You get in free!\n",
            "How old are you?\n",
            "Enter 'quit' when you are finished.quit\n"
          ]
        }
      ],
      "source": [
        "prompt = \"How old are you?\"\n",
        "prompt += \"\\nEnter 'quit' when you are finished.\"\n",
        "\n",
        "while True:\n",
        "  age = input(prompt)\n",
        "  if age == 'quit' :\n",
        "    break\n",
        "  age = int(age)\n",
        "\n",
        "  if age < 3:\n",
        "    print(\"You get in free!\")\n",
        "  elif age < 13:\n",
        "    print(\"Your ticket is $10.\")\n",
        "  else:\n",
        "    print(\"Your ticket is $15.\")"
      ]
    },
    {
      "cell_type": "markdown",
      "metadata": {
        "id": "KV1bK1208qDq"
      },
      "source": [
        "## Question 18\n",
        "**Three Exits:** Write different versions of either Question 16 or Question 17 that do each of the following at least once:\n",
        "\n",
        "* Use a conditional test in the while statement to stop the loop.\n",
        "* Use an active variable to control how long the loop runs.\n",
        "* Use a break statement to exit the loop when the user enters a 'quit' value."
      ]
    },
    {
      "cell_type": "code",
      "source": [
        "## Use a conditional test in the while statement to stop the loop.\n",
        "\n",
        "prompt = \"\\nWhat toppings would you like on your pizza?\"\n",
        "prompt += \"\\nEnter 'quit' when your pizza is complete: \"\n",
        "\n",
        "num_toppings = 0\n",
        "\n",
        "while num_toppings <6:\n",
        "    topping = input(prompt)\n",
        "    if topping != 'quit':\n",
        "        print (f\" Okay, {topping} has been added to your pizza.\")\n",
        "        num_toppings= num_toppings +1"
      ],
      "metadata": {
        "colab": {
          "base_uri": "https://localhost:8080/"
        },
        "id": "Ue_s0n4ILMWX",
        "outputId": "e5e12bf2-cc31-4b3b-95a2-9099f00d65b5"
      },
      "execution_count": 19,
      "outputs": [
        {
          "output_type": "stream",
          "name": "stdout",
          "text": [
            "\n",
            "What toppings would you like on your pizza?\n",
            "Enter 'quit' when your pizza is complete: pineapple\n",
            " Okay, pineapple has been added to your pizza.\n",
            "\n",
            "What toppings would you like on your pizza?\n",
            "Enter 'quit' when your pizza is complete: cheese\n",
            " Okay, cheese has been added to your pizza.\n",
            "\n",
            "What toppings would you like on your pizza?\n",
            "Enter 'quit' when your pizza is complete: bell peppers\n",
            " Okay, bell peppers has been added to your pizza.\n",
            "\n",
            "What toppings would you like on your pizza?\n",
            "Enter 'quit' when your pizza is complete: onions\n",
            " Okay, onions has been added to your pizza.\n",
            "\n",
            "What toppings would you like on your pizza?\n",
            "Enter 'quit' when your pizza is complete: olives\n",
            " Okay, olives has been added to your pizza.\n",
            "\n",
            "What toppings would you like on your pizza?\n",
            "Enter 'quit' when your pizza is complete: mushrooms\n",
            " Okay, mushrooms has been added to your pizza.\n"
          ]
        }
      ]
    },
    {
      "cell_type": "code",
      "source": [
        "## Use an active variable to control how long the loop runs.\n",
        "\n",
        "prompt = \"\\nWhat toppings would you like on your pizza?\"\n",
        "prompt += \"\\nEnter 'quit' when your pizza is complete: \"\n",
        "\n",
        "active = True\n",
        "while active:\n",
        "    topping = input(prompt)\n",
        "    if topping != 'quit':\n",
        "        print (f\" Okay, {topping} has been added to your pizza.\")\n",
        "    else:\n",
        "        active=False"
      ],
      "metadata": {
        "colab": {
          "base_uri": "https://localhost:8080/"
        },
        "id": "9wqdVSq1Kl20",
        "outputId": "93296341-ffa1-4836-9605-c99bc90af923"
      },
      "execution_count": 20,
      "outputs": [
        {
          "name": "stdout",
          "output_type": "stream",
          "text": [
            "\n",
            "What toppings would you like on your pizza?\n",
            "Enter 'quit' when your pizza is complete: cheese\n",
            " Okay, cheese has been added to your pizza.\n",
            "\n",
            "What toppings would you like on your pizza?\n",
            "Enter 'quit' when your pizza is complete: pineapple\n",
            " Okay, pineapple has been added to your pizza.\n",
            "\n",
            "What toppings would you like on your pizza?\n",
            "Enter 'quit' when your pizza is complete: onions\n",
            " Okay, onions has been added to your pizza.\n",
            "\n",
            "What toppings would you like on your pizza?\n",
            "Enter 'quit' when your pizza is complete: quit\n"
          ]
        }
      ]
    },
    {
      "cell_type": "code",
      "source": [
        "## Use a break statement to exit the loop when the user enters a 'quit' value.\n",
        "\n",
        "prompt = \"\\nWhat toppings would you like on your pizza?\"\n",
        "prompt += \"\\nEnter 'quit' when your pizza is complete: \"\n",
        "\n",
        "while True:\n",
        "    topping = input(prompt)\n",
        "    if topping != 'quit':\n",
        "        print (f\" Okay, {topping} has been added to your pizza.\")\n",
        "    else:\n",
        "        break\n"
      ],
      "metadata": {
        "colab": {
          "base_uri": "https://localhost:8080/"
        },
        "id": "FICLczuA6A3M",
        "outputId": "9df6b984-4782-443c-a654-d9334c879738"
      },
      "execution_count": 21,
      "outputs": [
        {
          "name": "stdout",
          "output_type": "stream",
          "text": [
            "\n",
            "What toppings would you like on your pizza?\n",
            "Enter 'quit' when your pizza is complete: cheese\n",
            " Okay, cheese has been added to your pizza.\n",
            "\n",
            "What toppings would you like on your pizza?\n",
            "Enter 'quit' when your pizza is complete: pineapple\n",
            " Okay, pineapple has been added to your pizza.\n",
            "\n",
            "What toppings would you like on your pizza?\n",
            "Enter 'quit' when your pizza is complete: bell peppers\n",
            " Okay, bell peppers has been added to your pizza.\n",
            "\n",
            "What toppings would you like on your pizza?\n",
            "Enter 'quit' when your pizza is complete: onions\n",
            " Okay, onions has been added to your pizza.\n",
            "\n",
            "What toppings would you like on your pizza?\n",
            "Enter 'quit' when your pizza is complete: quit\n"
          ]
        }
      ]
    },
    {
      "cell_type": "markdown",
      "metadata": {
        "id": "daCW4rjO8qDv"
      },
      "source": [
        "## Question 19\n",
        "**Deli:** Make a list called `sandwich_orders` and fill it with the names of various sandwiches. Then make an empty list called `finished_sandwiches`. Loop through the list of sandwich orders and print a message for each order, such as `I made your tuna sandwich`. As each sandwich is made, move it to the list of finished sandwiches. After all the sandwiches have been made, print a message listing each sandwich that was made."
      ]
    },
    {
      "cell_type": "code",
      "execution_count": 22,
      "metadata": {
        "id": "TOZVfY6c8qDw",
        "colab": {
          "base_uri": "https://localhost:8080/"
        },
        "outputId": "a75fc04c-f2eb-4205-be51-adb01c780de0"
      },
      "outputs": [
        {
          "output_type": "stream",
          "name": "stdout",
          "text": [
            "The meatball sandwich is being prepared.\n",
            "The veggie sandwich is being prepared.\n",
            "The italian sandwich is being prepared.\n",
            "The roast beef sandwich is being prepared.\n",
            "\n",
            "\n",
            "I made a meatball sandwich.\n",
            "I made a veggie sandwich.\n",
            "I made a italian sandwich.\n",
            "I made a roast beef sandwich.\n"
          ]
        }
      ],
      "source": [
        "sandwich_orders = ['roast beef', 'italian', 'veggie', 'meatball']\n",
        "finished_sandwiches = []\n",
        "\n",
        "while sandwich_orders:\n",
        "  current_sandwich = sandwich_orders.pop()\n",
        "  print(f\"The {current_sandwich} sandwich is being prepared.\")\n",
        "  finished_sandwiches.append(current_sandwich)\n",
        "\n",
        "print(\"\\n\")\n",
        "for sandwich in finished_sandwiches:\n",
        "  print(f\"I made a {sandwich} sandwich.\")"
      ]
    },
    {
      "cell_type": "markdown",
      "metadata": {
        "id": "xxRW-hkN8qDw"
      },
      "source": [
        "## Question 20\n",
        "**No Pastrami:** Using the list `sandwich_orders` from Question 19, make sure the sandwich `pastrami` appears in the list at least three times. Add code near the beginning of your program to print a message saying the deli has run out of pastrami, and then use a `while` loop to remove all occurrences of `pastrami` from `sandwich_orders`. Make sure no pastrami sandwiches end up in `finished_sandwiches`."
      ]
    },
    {
      "cell_type": "code",
      "execution_count": 23,
      "metadata": {
        "id": "8_pD4yTc8qDw",
        "colab": {
          "base_uri": "https://localhost:8080/"
        },
        "outputId": "f9762224-dd40-4137-928c-8aabab92459c"
      },
      "outputs": [
        {
          "output_type": "stream",
          "name": "stdout",
          "text": [
            "We are out of pastrami for the day.\n",
            "\n",
            "\n",
            "The Meatball sandwich is being prepared.\n",
            "The Veggie sandwich is being prepared.\n",
            "The Italian sandwich is being prepared.\n",
            "The Roast Beef sandwich is being prepared.\n",
            "\n",
            "\n",
            "I made a Meatball sandwich.\n",
            "I made a Veggie sandwich.\n",
            "I made a Italian sandwich.\n",
            "I made a Roast Beef sandwich.\n"
          ]
        }
      ],
      "source": [
        "sandwich_orders = [\n",
        "    'pastrami', 'roast beef', 'pastrami', 'italian','veggie', 'pastrami', 'meatball']\n",
        "finished_sandwiches = []\n",
        "\n",
        "print(\"We are out of pastrami for the day.\")\n",
        "while 'pastrami' in sandwich_orders:\n",
        "  sandwich_orders.remove('pastrami')\n",
        "\n",
        "\n",
        "print(\"\\n\")\n",
        "while sandwich_orders:\n",
        "  current_sandwich = sandwich_orders.pop()\n",
        "  print(f\"The {current_sandwich.title()} sandwich is being prepared.\")\n",
        "  finished_sandwiches.append(current_sandwich)\n",
        "\n",
        "print(\"\\n\")\n",
        "for sandwich in finished_sandwiches:\n",
        "  print(f\"I made a {sandwich.title()} sandwich.\")"
      ]
    },
    {
      "cell_type": "markdown",
      "metadata": {
        "id": "dww2Y9-Q8qDw"
      },
      "source": [
        "## Question 21\n",
        "**Dream Vacation:** Write a program that polls users about their dream vacation. Write a prompt similar to *If you could visit one place in the world, where would you go?* Include a block of code that prints the results of the poll."
      ]
    },
    {
      "cell_type": "code",
      "execution_count": 24,
      "metadata": {
        "id": "tzc69isl8qDw",
        "colab": {
          "base_uri": "https://localhost:8080/"
        },
        "outputId": "4bd7b50f-31ef-4cb9-9f2b-7d963ffc7732"
      },
      "outputs": [
        {
          "output_type": "stream",
          "name": "stdout",
          "text": [
            "\n",
            "What's your name?Andrea\n",
            "If you could visit one place in the world, where would it be?Bora Bora\n",
            "\n",
            "Would you like to let someone else respond? (Y/N)Y\n",
            "\n",
            "What's your name?Max\n",
            "If you could visit one place in the world, where would it be?Colorado\n",
            "\n",
            "Would you like to let someone else respond? (Y/N)Y\n",
            "\n",
            "What's your name?Maxwell\n",
            "If you could visit one place in the world, where would it be?Canada\n",
            "\n",
            "Would you like to let someone else respond? (Y/N)N\n",
            "\n",
            "Results\n",
            "Andrea would like to visit Bora Bora.\n",
            "Max would like to visit Colorado.\n",
            "Maxwell would like to visit Canada.\n"
          ]
        }
      ],
      "source": [
        "name_prompt = \"\\nWhat's your name?\"\n",
        "place_prompt = \"If you could visit one place in the world, where would it be?\"\n",
        "continue_prompt = \"\\nWould you like to let someone else respond? (Y/N)\"\n",
        "\n",
        "responses = {}\n",
        "\n",
        "while True:\n",
        "  name = input(name_prompt)\n",
        "  place = input(place_prompt)\n",
        "\n",
        "  responses[name] = place\n",
        "\n",
        "  repeat = input(continue_prompt)\n",
        "  if repeat != 'Y':\n",
        "    break\n",
        "\n",
        "print(\"\\nResults\")\n",
        "for name, place in responses.items():\n",
        "    print(f\"{name.title()} would like to visit {place.title()}.\")"
      ]
    }
  ],
  "metadata": {
    "kernelspec": {
      "display_name": "Python 3 (ipykernel)",
      "language": "python",
      "name": "python3"
    },
    "language_info": {
      "codemirror_mode": {
        "name": "ipython",
        "version": 3
      },
      "file_extension": ".py",
      "mimetype": "text/x-python",
      "name": "python",
      "nbconvert_exporter": "python",
      "pygments_lexer": "ipython3",
      "version": "3.8.10"
    },
    "colab": {
      "provenance": [],
      "include_colab_link": true
    }
  },
  "nbformat": 4,
  "nbformat_minor": 0
}